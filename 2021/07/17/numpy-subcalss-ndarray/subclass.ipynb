{
    "cells": [
        {
            "cell_type": "code",
            "execution_count": 1,
            "source": [
                "import numpy as np"
            ],
            "outputs": [],
            "metadata": {}
        },
        {
            "cell_type": "markdown",
            "source": [
                "# 定义一个自定义的数组容器\n",
                "\n",
                "注意数组的容器并不一定要继承`ndarray`,只需要添加`__array__`方法即可,所以首先定义一个类:"
            ],
            "metadata": {}
        },
        {
            "cell_type": "code",
            "execution_count": 2,
            "source": [
                "class PEArray:\n",
                "  def __init__(self, height, width, spad_size):\n",
                "    self._h = height\n",
                "    self._w = width\n",
                "    self._spad = spad_size\n",
                "    self._pe = np.random.rand(self._h, self._w)\n",
                "\n",
                "  def __repr__(self):\n",
                "    return f\"{self.__class__.__name__}(h={self._h}, w={self._w})\"\n",
                "\n",
                "  def __array__(self, dtype=None):\n",
                "    return self._pe\n"
            ],
            "outputs": [],
            "metadata": {}
        },
        {
            "cell_type": "markdown",
            "source": [
                "我们可以方便的初始化他,并且将其中的数据通过`np.array\\np.asarray`方法进行获取."
            ],
            "metadata": {}
        },
        {
            "cell_type": "code",
            "execution_count": 3,
            "source": [
                "pe = PEArray(3, 4, 8)\n",
                "pe"
            ],
            "outputs": [
                {
                    "output_type": "execute_result",
                    "data": {
                        "text/plain": [
                            "PEArray(h=3, w=4)"
                        ]
                    },
                    "metadata": {},
                    "execution_count": 3
                }
            ],
            "metadata": {}
        },
        {
            "cell_type": "code",
            "execution_count": 4,
            "source": [
                "np.asarray(pe)"
            ],
            "outputs": [
                {
                    "output_type": "execute_result",
                    "data": {
                        "text/plain": [
                            "array([[0.44450444, 0.85014876, 0.93706849, 0.9179388 ],\n",
                            "       [0.86145163, 0.11632653, 0.39719148, 0.23972649],\n",
                            "       [0.81139147, 0.46744501, 0.83977769, 0.76806018]])"
                        ]
                    },
                    "metadata": {},
                    "execution_count": 4
                }
            ],
            "metadata": {}
        },
        {
            "cell_type": "markdown",
            "source": [
                "`__array__`类似c++中的数据类型重载转换重载,所以我们可以传入一个`PEArray`对象到`numpy`的计算函数中进行计算,但是需要注意的是返回值类型肯定是`ndarray`了:"
            ],
            "metadata": {}
        },
        {
            "cell_type": "code",
            "execution_count": 5,
            "source": [
                "np.multiply(pe, 2)"
            ],
            "outputs": [
                {
                    "output_type": "execute_result",
                    "data": {
                        "text/plain": [
                            "array([[0.88900889, 1.70029753, 1.87413698, 1.83587761],\n",
                            "       [1.72290325, 0.23265307, 0.79438295, 0.47945298],\n",
                            "       [1.62278294, 0.93489002, 1.67955538, 1.53612035]])"
                        ]
                    },
                    "metadata": {},
                    "execution_count": 5
                }
            ],
            "metadata": {}
        },
        {
            "cell_type": "markdown",
            "source": [
                "那么如果我们既想使用`numpy`提供的方法,又想保持我们的数据类型不变,仅对类中的数据进行操作,那么需要通过`__array_ufunc__`和`__array_function__`进行适配. 首先从`__array_ufunc__`方法开始:"
            ],
            "metadata": {}
        },
        {
            "cell_type": "markdown",
            "source": [
                "## `__array_ufunc__`\n",
                "\n",
                "`__array_ufunc__`是一个`unary`操作函数的一个接口,即调用[ufunc](https://numpy.org/doc/stable/reference/ufuncs.html#ufuncs)是对数组元素进行`elemwise`的操作,比如`add\\subtract\\multiply\\log\\sin`等等.\n",
                "\n",
                "每个`__array_ufunc__`接收参数如下:\n",
                "-   `ufunc`, `ufunc`函数对象,比如numpy.xxx\n",
                "\n",
                "-   `method`, 方法名,因为每个`ufunc`函数对象都有四个方法,所以还得选方法\n",
                "\n",
                "-   `inputs`, 输入对象\n",
                "\n",
                "-   `kwargs`, `ufunc`的可选参数\n",
                "\n",
                "对于每个`ufunc`都有相同的输入参数、属性,这个可以去文档中看,主要是每个函数还对应了4个`method`:\n",
                "|name | description|\n",
                "|-|-|\n",
                "|ufunc.reduce(array[, axis, dtype, out, …])|Reduces array’s dimension by one, by applying ufunc along one axis.|\n",
                "|ufunc.accumulate(array[, axis, dtype, out])|Accumulate the result of applying the operator to all elements.|\n",
                "|ufunc.reduceat(array, indices[, axis, …])|Performs a (local) reduce with specified slices over a single axis.|\n",
                "|ufunc.outer(A, B, /, **kwargs)|Apply the ufunc op to all pairs (a, b) with a in A and b in B.|\n",
                "|ufunc.at(a, indices[, b])|Performs unbuffered in place operation on operand ‘a’ for elements specified by ‘indices’.  |\n",
                "\n",
                "接下来我们适配一个`__call__`方法,也就是直接调用的方法:"
            ],
            "metadata": {}
        },
        {
            "cell_type": "code",
            "execution_count": 6,
            "source": [
                "from numbers import Number\n",
                "\n",
                "\n",
                "class PEArray:\n",
                "  def __init__(self, height, width, spad_size, pe=None):\n",
                "    self._h = height\n",
                "    self._w = width\n",
                "    self._spad = spad_size\n",
                "    if pe is not None:\n",
                "      self._pe = pe\n",
                "    else:\n",
                "      self._pe = np.random.rand(self._h, self._w)\n",
                "\n",
                "  def __repr__(self):\n",
                "    return f\"{self.__class__.__name__}(h={self._h}, w={self._w})\"\n",
                "\n",
                "  def __array__(self, dtype=None):\n",
                "    return self._pe\n",
                "\n",
                "  def __array_ufunc__(self, ufunc, method, *inputs, **kwargs):\n",
                "    if method == '__call__':\n",
                "      scalars = []\n",
                "      objects = []\n",
                "      for input in inputs:\n",
                "        if isinstance(input, Number):\n",
                "          scalars.append(input)\n",
                "        elif isinstance(input, self.__class__):\n",
                "          if input._pe.shape != self._pe.shape:\n",
                "            raise ValueError(\"inconsistent shape\")\n",
                "          objects.append(input._pe)\n",
                "        else:\n",
                "          return NotImplementedError(\"not support the other type\")\n",
                "      return self.__class__(self._h, self._w, self._spad, ufunc(*objects, *scalars, **kwargs))\n",
                "    else:\n",
                "      return NotImplementedError(\"now only support __call__!\")\n"
            ],
            "outputs": [],
            "metadata": {}
        },
        {
            "cell_type": "markdown",
            "source": [
                "在编写以上代码时需要注意类内的`array`也会被传入到input里面的,所以不要手动再传入`self._pe`了. 还有就是要给自己类写一个合适的构造函数,以便于直接传入数组重新构造,接下来可以看到可以输出的正确的对象了."
            ],
            "metadata": {}
        },
        {
            "cell_type": "code",
            "execution_count": 7,
            "source": [
                "a = PEArray(3,4,5)\n",
                "b = 3.\n",
                "c = PEArray(3,4,6)\n",
                "print(np.add(a,b))\n",
                "print(np.multiply(a,c))"
            ],
            "outputs": [
                {
                    "output_type": "stream",
                    "name": "stdout",
                    "text": [
                        "PEArray(h=3, w=4)\n",
                        "PEArray(h=3, w=4)\n"
                    ]
                }
            ],
            "metadata": {}
        },
        {
            "cell_type": "markdown",
            "source": [],
            "metadata": {}
        },
        {
            "cell_type": "markdown",
            "source": [
                "但是还有个问题,我们此时没有继承python内部的操作符号:"
            ],
            "metadata": {}
        },
        {
            "cell_type": "code",
            "execution_count": 8,
            "source": [
                "a + b"
            ],
            "outputs": [
                {
                    "output_type": "error",
                    "ename": "TypeError",
                    "evalue": "unsupported operand type(s) for +: 'PEArray' and 'float'",
                    "traceback": [
                        "\u001b[0;31m---------------------------------------------------------------------------\u001b[0m",
                        "\u001b[0;31mTypeError\u001b[0m                                 Traceback (most recent call last)",
                        "\u001b[0;32m<ipython-input-8-bd58363a63fc>\u001b[0m in \u001b[0;36m<module>\u001b[0;34m\u001b[0m\n\u001b[0;32m----> 1\u001b[0;31m \u001b[0ma\u001b[0m \u001b[0;34m+\u001b[0m \u001b[0mb\u001b[0m\u001b[0;34m\u001b[0m\u001b[0;34m\u001b[0m\u001b[0m\n\u001b[0m",
                        "\u001b[0;31mTypeError\u001b[0m: unsupported operand type(s) for +: 'PEArray' and 'float'"
                    ]
                }
            ],
            "metadata": {}
        },
        {
            "cell_type": "markdown",
            "source": [
                "如果一个个继承比较麻烦,我们可以继承numpy内置的脚手架类`numpy.lib.mixins.NDArrayOperatorsMixin`"
            ],
            "metadata": {}
        },
        {
            "cell_type": "code",
            "execution_count": 11,
            "source": [
                "from numpy.lib.mixins import NDArrayOperatorsMixin\n",
                "\n",
                "\n",
                "class PEArray(NDArrayOperatorsMixin):\n",
                "  def __init__(self, height, width, spad_size, pe=None):\n",
                "    self._h = height\n",
                "    self._w = width\n",
                "    self._spad = spad_size\n",
                "    if pe is not None:\n",
                "      self._pe = pe\n",
                "    else:\n",
                "      self._pe = np.random.rand(self._h, self._w)\n",
                "\n",
                "  def __repr__(self):\n",
                "    return f\"{self.__class__.__name__}(h={self._h}, w={self._w})\"\n",
                "\n",
                "  def __array__(self, dtype=None):\n",
                "    return self._pe\n",
                "\n",
                "  def __array_ufunc__(self, ufunc, method, *inputs, **kwargs):\n",
                "    if method == '__call__':\n",
                "      scalars = []\n",
                "      objects = []\n",
                "      for input in inputs:\n",
                "        if isinstance(input, Number):\n",
                "          scalars.append(input)\n",
                "        elif isinstance(input, self.__class__):\n",
                "          if input._pe.shape != self._pe.shape:\n",
                "            raise ValueError(\"inconsistent shape\")\n",
                "          objects.append(input._pe)\n",
                "        else:\n",
                "          return NotImplementedError(\"not support the other type\")\n",
                "      return self.__class__(self._h, self._w, self._spad, ufunc(*objects, *scalars, **kwargs))\n",
                "    else:\n",
                "      return NotImplementedError(\"now only support __call__!\")\n"
            ],
            "outputs": [],
            "metadata": {}
        },
        {
            "cell_type": "code",
            "execution_count": 12,
            "source": [
                "a = PEArray(1,2,3)\n",
                "b = 10\n",
                "a + b"
            ],
            "outputs": [
                {
                    "output_type": "execute_result",
                    "data": {
                        "text/plain": [
                            "PEArray(h=1, w=2)"
                        ]
                    },
                    "metadata": {},
                    "execution_count": 12
                }
            ],
            "metadata": {}
        },
        {
            "cell_type": "markdown",
            "source": [
                "## `__array_function__`\n",
                "\n",
                "之前方式我们支持了`ufunc`,其实按那种方式也可以支持一些非`ufunc`,比如`np.sum`,其实他默认是调用的`reduce`方法,那么只需要在`__array_ufunc__`中添加对`reduce`也是可以的. 不过还有一种更加方便的方式,那就是直接在整个函数级别进行`overwrite`,比如我们要使用w w"
            ],
            "metadata": {}
        },
        {
            "cell_type": "code",
            "execution_count": 13,
            "source": [
                "np.sum(a)"
            ],
            "outputs": [
                {
                    "output_type": "execute_result",
                    "data": {
                        "text/plain": [
                            "NotImplementedError('now only support __call__!')"
                        ]
                    },
                    "metadata": {},
                    "execution_count": 13
                }
            ],
            "metadata": {}
        },
        {
            "cell_type": "code",
            "execution_count": 14,
            "source": [
                "from typing import List\n",
                "HANDLED_FUNCTIONS = {}\n",
                "\n",
                "\n",
                "def register(np_function):\n",
                "  def decorator(func):\n",
                "    HANDLED_FUNCTIONS[np_function] = func\n",
                "    return func\n",
                "  return decorator\n",
                "\n",
                "\n",
                "class PEArray(NDArrayOperatorsMixin):\n",
                "  def __init__(self, height, width, spad_size, pe=None):\n",
                "    self._h = height\n",
                "    self._w = width\n",
                "    self._spad = spad_size\n",
                "    if pe is not None:\n",
                "      self._pe = pe\n",
                "    else:\n",
                "      self._pe = np.random.rand(self._h, self._w)\n",
                "\n",
                "  def __repr__(self):\n",
                "    return f\"{self.__class__.__name__}(h={self._h}, w={self._w})\"\n",
                "\n",
                "  def __array__(self, dtype=None):\n",
                "    return self._pe\n",
                "\n",
                "  def __array_ufunc__(self, ufunc, method, *inputs, **kwargs):\n",
                "    if method == '__call__':\n",
                "      scalars = []\n",
                "      objects = []\n",
                "      for input in inputs:\n",
                "        if isinstance(input, Number):\n",
                "          scalars.append(input)\n",
                "        elif isinstance(input, self.__class__):\n",
                "          if input._pe.shape != self._pe.shape:\n",
                "            raise ValueError(\"inconsistent shape\")\n",
                "          objects.append(input._pe)\n",
                "        else:\n",
                "          return NotImplementedError(\"not support the other type\")\n",
                "      return self.__class__(self._h, self._w, self._spad, ufunc(*objects, *scalars, **kwargs))\n",
                "    else:\n",
                "      return NotImplementedError(\"now only support __call__!\")\n",
                "\n",
                "  def __array_function__(self, func, types, args, kwargs):\n",
                "    if func not in HANDLED_FUNCTIONS:\n",
                "      return NotImplemented\n",
                "    # Note: this allows subclasses that don't override\n",
                "    # __array_function__ to handle DiagonalArray objects.\n",
                "    if not all(issubclass(t, self.__class__) for t in types):\n",
                "      return NotImplemented\n",
                "    return HANDLED_FUNCTIONS[func](*args, **kwargs)\n",
                "\n",
                "\n",
                "@register(np.sum)\n",
                "def pe_sum(arr: PEArray) -> np.ndarray:\n",
                "  return arr._pe.sum()\n",
                "\n",
                "\n",
                "@register(np.concatenate)\n",
                "def pe_concat(arrs: List[PEArray], axis: int = 0):\n",
                "  assert(len(arrs) > 1)\n",
                "  assert(axis < 2)\n",
                "  assert((arrs[0]._spad == np.array([arr._spad for arr in arrs[1:]])).all())\n",
                "  new_pe = np.concatenate([arr._pe for arr in arrs], axis=axis)\n",
                "  return PEArray(new_pe.shape[0], new_pe.shape[1], arrs[0]._spad, new_pe)\n"
            ],
            "outputs": [],
            "metadata": {}
        },
        {
            "cell_type": "code",
            "execution_count": 15,
            "source": [
                "a = PEArray(2, 4, 1)\n",
                "b = PEArray(2, 3, 1)\n",
                "c = PEArray(3, 4, 1)\n",
                "\n",
                "np.sum(a)\n"
            ],
            "outputs": [
                {
                    "output_type": "execute_result",
                    "data": {
                        "text/plain": [
                            "5.520550933404442"
                        ]
                    },
                    "metadata": {},
                    "execution_count": 15
                }
            ],
            "metadata": {}
        },
        {
            "cell_type": "code",
            "execution_count": 16,
            "source": [
                "np.concatenate([a, b], axis=1)"
            ],
            "outputs": [
                {
                    "output_type": "execute_result",
                    "data": {
                        "text/plain": [
                            "PEArray(h=2, w=7)"
                        ]
                    },
                    "metadata": {},
                    "execution_count": 16
                }
            ],
            "metadata": {}
        },
        {
            "cell_type": "code",
            "execution_count": 17,
            "source": [
                "np.concatenate([a, c], axis=0)"
            ],
            "outputs": [
                {
                    "output_type": "execute_result",
                    "data": {
                        "text/plain": [
                            "PEArray(h=5, w=4)"
                        ]
                    },
                    "metadata": {},
                    "execution_count": 17
                }
            ],
            "metadata": {}
        },
        {
            "cell_type": "markdown",
            "source": [
                "## 总结\n",
                "\n",
                "自定义数组容器的方法还是比较方便的,同时可以在两个层次上最大程度的复用numpy内置的接口,提高抽象的一致性."
            ],
            "metadata": {}
        },
        {
            "cell_type": "markdown",
            "source": [
                "# 从ndarray类继承\n",
                "\n",
                "子类化ndarray还是相对来说比较复杂的,主要就是ndarray可以通过多种方式被构造(想想c++的移动构造拷贝构造):\n",
                "## 1. 显式构造,比如`PEarray(params)`"
            ],
            "metadata": {}
        },
        {
            "cell_type": "markdown",
            "source": [
                "## 2. `view`转换,类似于c++中的`dynamic cast`."
            ],
            "metadata": {}
        },
        {
            "cell_type": "code",
            "execution_count": 18,
            "source": [
                "import numpy as np\n",
                "# create a completely useless ndarray subclass\n",
                "class C(np.ndarray): pass\n",
                "# create a standard ndarray\n",
                "arr = np.zeros((3,))\n",
                "# take a view of it, as our useless subclass\n",
                "c_arr = arr.view(C)\n",
                "type(c_arr)"
            ],
            "outputs": [
                {
                    "output_type": "execute_result",
                    "data": {
                        "text/plain": [
                            "__main__.C"
                        ]
                    },
                    "metadata": {},
                    "execution_count": 18
                }
            ],
            "metadata": {}
        },
        {
            "cell_type": "markdown",
            "source": [
                "## 3. from template, 比如copy,slice,ufunc都会生成"
            ],
            "metadata": {}
        },
        {
            "cell_type": "code",
            "execution_count": 19,
            "source": [
                "v = c_arr[1:]\n",
                "print(type(v)) # 切片后还是老类别,那是因为切片只是原始数组中的一个数组投影."
            ],
            "outputs": [
                {
                    "output_type": "stream",
                    "name": "stdout",
                    "text": [
                        "<class '__main__.C'>\n"
                    ]
                }
            ],
            "metadata": {}
        },
        {
            "cell_type": "markdown",
            "source": [
                "## view cast和from template的关系\n",
                "\n",
                "view cast主要是当有了一个完整的ndarry的时候,创建子类类型的新对象.from template主要是从已有的对象中创建新对象, 这时候我们子类的属性通常就要复制过去.\n"
            ],
            "metadata": {}
        },
        {
            "cell_type": "markdown",
            "source": [
                "## 继承的问题\n",
                "\n",
                "继承的问题在于我们编写合适的处理方法对应以上三种情况的,否则你编写的子类很容易就变成了`ndarray`类型,导致后续调用出错. "
            ],
            "metadata": {}
        },
        {
            "cell_type": "markdown",
            "source": [
                "## 1. `__new__`方法\n",
                "\n",
                "首先我们不能从`__init__`方法开始,因为`ndarray`是从`__new__`方法就开始构造了的.`__new__`是可以返回任意的值的,同时`__init__`方法的`self`参数其实是从`__new__`返回的.\n",
                "\n",
                "一个类构造的流程其实这样的,从`__new__`中创建特定类型的对象,然后返回值传入到`__init__`方法中对对象的属性等进行修改,最后这个对象返回给用户. 也就是我们从`pe=PEArray()`中获取的对象就是从`new`中返回的.\n",
                "\n",
                "通过重载`__new__`方法,我们可以做到对一个类返回不同类型的对象,下面这个例子就是从初始化D返回一个C对象(因为他返回对象类型不是自身类型,所以不会触发`__init__`):\n"
            ],
            "metadata": {}
        },
        {
            "cell_type": "code",
            "execution_count": 20,
            "source": [
                "class C:\n",
                "    def __new__(cls, *args):\n",
                "        print('Cls in __new__:', cls)\n",
                "        print('Args in __new__:', args)\n",
                "        # The `object` type __new__ method takes a single argument.\n",
                "        return object.__new__(cls)\n",
                "\n",
                "    def __init__(self, *args):\n",
                "        print('type(self) in __init__:', type(self))\n",
                "        print('Args in __init__:', args)\n",
                "\n",
                "class D(C):\n",
                "    def __new__(cls, *args):\n",
                "        print('D cls is:', cls)\n",
                "        print('D args in __new__:', args)\n",
                "        return C.__new__(C, *args)\n",
                "\n",
                "    def __init__(self, *args):\n",
                "        # we never get here\n",
                "        print('In D __init__')\n",
                "D()"
            ],
            "outputs": [
                {
                    "output_type": "stream",
                    "name": "stdout",
                    "text": [
                        "D cls is: <class '__main__.D'>\n",
                        "D args in __new__: ()\n",
                        "Cls in __new__: <class '__main__.C'>\n",
                        "Args in __new__: ()\n"
                    ]
                },
                {
                    "output_type": "execute_result",
                    "data": {
                        "text/plain": [
                            "<__main__.C at 0x10fd0cb50>"
                        ]
                    },
                    "metadata": {},
                    "execution_count": 20
                }
            ],
            "metadata": {}
        },
        {
            "cell_type": "markdown",
            "source": [
                "在`view cast`的时候其实就是使用`__new__`方法,通过`obj = ndarray.__new__(subtype, shape, ...`返回了一个子类的对象,保证了子类在切片等时候返回对象的一致性."
            ],
            "metadata": {}
        },
        {
            "cell_type": "markdown",
            "source": [
                "## 2. `__array_finalize__`方法\n",
                "\n",
                "__array_finalize__ 是 numpy 提供的机制，允许子类处理创建新实例的各种方式。因为上面的`__new__`只有在显式构建的时候才会被调用,所以需要这个方法对别的创建方法进行处理"
            ],
            "metadata": {}
        },
        {
            "cell_type": "code",
            "execution_count": 21,
            "source": [
                "\n",
                "class C(np.ndarray):\n",
                "  def __new__(cls, *args, **kwargs):\n",
                "    print('In __new__ with class %s' % cls)\n",
                "    return super().__new__(cls, *args, **kwargs)\n",
                "\n",
                "  def __init__(self, *args, **kwargs):\n",
                "    # in practice you probably will not need or want an __init__\n",
                "    # method for your subclass\n",
                "    print('In __init__ with class %s' % self.__class__)\n",
                "\n",
                "  def __array_finalize__(self, obj):\n",
                "    print('In array_finalize:')\n",
                "    print('   self type is %s' % type(self))\n",
                "    print('   obj type is %s' % type(obj))\n",
                "print(\"\\nmethod 1 \\n\")\n",
                "c = C((1,2,3))\n",
                "print(\"\\nmethod 2 \\n\")\n",
                "np.arange(10).view(C)\n",
                "print(\"\\nmethod 3 \\n\")\n",
                "cc = c[1:]"
            ],
            "outputs": [
                {
                    "output_type": "stream",
                    "name": "stdout",
                    "text": [
                        "\n",
                        "method 1 \n",
                        "\n",
                        "In __new__ with class <class '__main__.C'>\n",
                        "In array_finalize:\n",
                        "   self type is <class '__main__.C'>\n",
                        "   obj type is <class 'NoneType'>\n",
                        "In __init__ with class <class '__main__.C'>\n",
                        "\n",
                        "method 2 \n",
                        "\n",
                        "In array_finalize:\n",
                        "   self type is <class '__main__.C'>\n",
                        "   obj type is <class 'numpy.ndarray'>\n",
                        "\n",
                        "method 3 \n",
                        "\n",
                        "In array_finalize:\n",
                        "   self type is <class '__main__.C'>\n",
                        "   obj type is <class '__main__.C'>\n"
                    ]
                }
            ],
            "metadata": {}
        },
        {
            "cell_type": "markdown",
            "source": [
                "上述的例子中,可以看出`array_finalize`方法是可以在不同的构造方式中被调用的,在不同的构造方法中,他所接收的参数也是不同的:\n",
                "\n",
                "1.  显式构造的时候obj是None\n",
                "2.  view cast时,obj是ndarray的任意子类类型\n",
                "3.  from template时,obj是当前子类的一个对象,我们可以用这个对象来更新self这个对象.\n",
                "\n",
                "所以在`array_finalize`中对`self`设置一系列属性是比较合适的."
            ],
            "metadata": {}
        },
        {
            "cell_type": "markdown",
            "source": [
                "## 例子1 向ndarray添加额外属性"
            ],
            "metadata": {}
        },
        {
            "cell_type": "code",
            "execution_count": 28,
            "source": [
                "class PEArray(np.ndarray):\n",
                "  def __new__(subtype, height, width, spad_size, max_height=12, max_width=14, dtype=float, buffer=None, offset=0,\n",
                "              strides=None, order=None):\n",
                "    obj = super().__new__(subtype, (height, width, spad_size), dtype=dtype, buffer=buffer,\n",
                "                          offset=offset, strides=strides, order=order)\n",
                "    obj.h = height\n",
                "    obj.w = width\n",
                "    obj.spad = spad_size\n",
                "    obj.mh = max_height\n",
                "    obj.mw = max_width\n",
                "    return obj\n",
                "\n",
                "  def __array_finalize__(self, obj):\n",
                "    # 1. 显示构造函数 obj=none\n",
                "    if obj is None:\n",
                "      return\n",
                "    # 2. view cast, type(obj) == np.ndarray\n",
                "    if type(obj) == np.ndarray:\n",
                "      self.h = self.shape[0]\n",
                "      self.w = self.shape[1]\n",
                "      self.spad = self.shape[2]\n",
                "      self.mh = getattr(obj, 'mh', 0)\n",
                "      self.mw = getattr(obj, 'mw', 0)\n",
                "    # 3. from template, type(obj) == PEArray\n",
                "    if type(obj) == PEArray:\n",
                "      self.h = self.shape[0]\n",
                "      self.w = self.shape[1]\n",
                "      self.spad = self.shape[2]\n",
                "      self.mh = getattr(obj, 'mh')\n",
                "      self.mw = getattr(obj, 'mw')\n",
                "\n",
                "\n",
                "print('\\nmethod 1:\\n')\n",
                "pearr = PEArray(2, 3, 8)\n",
                "print(type(pearr))\n",
                "print(pearr.h, pearr.w, pearr.spad, pearr.mh, pearr.mw)\n",
                "\n",
                "print('\\nmethod 2:\\n')\n",
                "r = np.random.rand(3, 4, 6)\n",
                "rr = r.view(PEArray)\n",
                "print(type(rr))\n",
                "print(rr.h, rr.w, rr.spad, rr.mh, rr.mw)\n",
                "\n",
                "print('\\nmethod 3:\\n')\n",
                "pearr_sub = pearr[2:]\n",
                "print(type(pearr_sub))\n",
                "print(pearr_sub.h, pearr_sub.w, pearr_sub.spad, pearr_sub.mh, pearr_sub.mw)\n"
            ],
            "outputs": [
                {
                    "output_type": "stream",
                    "name": "stdout",
                    "text": [
                        "\n",
                        "method 1:\n",
                        "\n",
                        "<class '__main__.PEArray'>\n",
                        "2 3 8 12 14\n",
                        "\n",
                        "method 2:\n",
                        "\n",
                        "<class '__main__.PEArray'>\n",
                        "3 4 6 0 0\n",
                        "\n",
                        "method 3:\n",
                        "\n",
                        "<class '__main__.PEArray'>\n",
                        "0 3 8 12 14\n"
                    ]
                }
            ],
            "metadata": {}
        },
        {
            "cell_type": "markdown",
            "source": [
                "其实对于`view cast`,我们可以不做支持.然后对于`from template`,其中`self`就是已经被切分的数组部分,但是他的一些属性还是在obj中,所以需要取出. 实际我感觉对于带大量额外参数的子类,是需要禁止`view cast`构造的,但是不知道会不会造成一些问题."
            ],
            "metadata": {}
        }
    ],
    "metadata": {
        "orig_nbformat": 4,
        "language_info": {
            "name": "python"
        }
    },
    "nbformat": 4,
    "nbformat_minor": 2
}